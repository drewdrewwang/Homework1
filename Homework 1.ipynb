{
 "cells": [
  {
   "cell_type": "code",
   "execution_count": 8,
   "id": "969df3cc",
   "metadata": {},
   "outputs": [
    {
     "name": "stdout",
     "output_type": "stream",
     "text": [
      "[30, 35, 40, 45, 50, 55]\n",
      "[55, 50, 45, 40, 35, 30]\n",
      "[65, 55, 50, 45, 40, 35, 30]\n"
     ]
    }
   ],
   "source": [
    "nums = list(range(30, 60, 5))\n",
    "print(nums)\n",
    "nums.reverse()\n",
    "print(nums)\n",
    "nums.insert(0, 65)\n",
    "print(nums)"
   ]
  },
  {
   "cell_type": "code",
   "execution_count": 31,
   "id": "b4e139ee",
   "metadata": {},
   "outputs": [
    {
     "name": "stdout",
     "output_type": "stream",
     "text": [
      "[0, 1, 2, 3, 4, 5, 6, 7, 8, 9, 10, 11, 12, 13, 14, 15, 16, 17, 18, 19, 20]\n",
      "[1, 2, 3, 4, 5, 6, 7, 8, 9, 10, 11, 12, 13, 14, 15, 16, 17, 18, 19, 20]\n",
      "20\n",
      "20\n",
      "1\n",
      "210\n"
     ]
    }
   ],
   "source": [
    "integers = list()\n",
    "integers.extend(range(0, 21))\n",
    "print(integers)\n",
    "integers.remove(0)\n",
    "print(integers)\n",
    "print(len(integers))\n",
    "print(max(integers))\n",
    "print(min(integers))\n",
    "print(sum(integers))"
   ]
  },
  {
   "cell_type": "code",
   "execution_count": 42,
   "id": "c5a9d3bf",
   "metadata": {},
   "outputs": [
    {
     "name": "stdout",
     "output_type": "stream",
     "text": [
      "When sunny let us play\n",
      "When rainy let us watch TV\n",
      "When cloudy let us walk\n",
      "{'sunny': 'play', 'rainy': 'watch TV', 'cloudy': 'walk', 'snowy': 'ski'}\n"
     ]
    }
   ],
   "source": [
    "weatherdict = {'sunny': 'play',\n",
    "              'rainy': 'watch TV',\n",
    "              'cloudy': 'walk'}\n",
    "for w in weatherdict:\n",
    "    print(\"When\", w, \"let us\", weatherdict[w])\n",
    "weatherdict.update({\"snowy\": \"ski\"})\n",
    "print(weatherdict)"
   ]
  }
 ],
 "metadata": {
  "kernelspec": {
   "display_name": "Python 3 (ipykernel)",
   "language": "python",
   "name": "python3"
  },
  "language_info": {
   "codemirror_mode": {
    "name": "ipython",
    "version": 3
   },
   "file_extension": ".py",
   "mimetype": "text/x-python",
   "name": "python",
   "nbconvert_exporter": "python",
   "pygments_lexer": "ipython3",
   "version": "3.9.12"
  }
 },
 "nbformat": 4,
 "nbformat_minor": 5
}
